{
 "cells": [
  {
   "cell_type": "code",
   "execution_count": null,
   "id": "4cc9ebbd-b8af-47de-b04d-61889d32511e",
   "metadata": {
    "tags": []
   },
   "outputs": [],
   "source": [
    "pip install requests matplotlib wordcloud pandas"
   ]
  },
  {
   "cell_type": "code",
   "execution_count": null,
   "id": "09d73ff8-4dbb-41ed-96fe-17a62b17840c",
   "metadata": {
    "tags": []
   },
   "outputs": [],
   "source": [
    "# import\n",
    "import requests\n",
    "import matplotlib.pyplot as plt\n",
    "import pandas as pd\n",
    "from wordcloud import WordCloud\n",
    "\n",
    "# make function to fetch random dog facts\n",
    "def fetch_random_dog_facts(num_facts):\n",
    "    facts = []\n",
    "    for _ in range(num_facts):\n",
    "        response = requests.get('https://dog-api.kinduff.com/api/facts')\n",
    "        if response.status_code == 200:\n",
    "            facts.append(response.json()['facts'][0])\n",
    "        else:\n",
    "            print(\"Error fetching data from API.\")\n",
    "    return facts\n",
    "\n",
    "# fetch random dog facts\n",
    "num_facts = 15\n",
    "dog_facts = fetch_random_dog_facts(num_facts)\n",
    "\n",
    "# display the fetched facts\n",
    "print(\"Random Dog Facts:\")\n",
    "for i, fact in enumerate(dog_facts):\n",
    "    print(f\"{i + 1}: {fact}\")\n",
    "\n",
    "# create a dataframe\n",
    "df_dog_facts = pd.DataFrame(dog_facts, columns=['Dog Facts'])\n",
    "df_dog_facts.index += 1\n",
    "\n",
    "# create a word cloud\n",
    "wordcloud_text = ' '.join(dog_facts)\n",
    "wordcloud = WordCloud(width=800, height=400, background_color='white').generate(wordcloud_text)\n",
    "\n",
    "# plotting the word cloud\n",
    "plt.figure(figsize=(10, 5))\n",
    "plt.imshow(wordcloud, interpolation='bilinear')\n",
    "plt.axis('off')\n",
    "plt.title(\"Word Cloud of Random Dog Facts\", fontsize=20)\n",
    "plt.show()"
   ]
  },
  {
   "cell_type": "code",
   "execution_count": null,
   "id": "1c032f94-607a-4ae9-a26f-fcd3df2d4faf",
   "metadata": {},
   "outputs": [],
   "source": []
  }
 ],
 "metadata": {
  "kernelspec": {
   "display_name": "UFRC Python-3.10",
   "language": "python",
   "name": "python3-3.10-ufrc"
  },
  "language_info": {
   "codemirror_mode": {
    "name": "ipython",
    "version": 3
   },
   "file_extension": ".py",
   "mimetype": "text/x-python",
   "name": "python",
   "nbconvert_exporter": "python",
   "pygments_lexer": "ipython3",
   "version": "3.10.8"
  }
 },
 "nbformat": 4,
 "nbformat_minor": 5
}
